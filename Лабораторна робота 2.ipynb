{
 "cells": [
  {
   "cell_type": "markdown",
   "id": "95ff6144-2049-4888-80f1-d20634b8de6a",
   "metadata": {},
   "source": [
    "<center><h1>Звіт Лабораторна робота №2</h1></center>"
   ]
  },
  {
   "cell_type": "markdown",
   "id": "16d2ec4e-5051-4770-a248-6c5c6c8a4df1",
   "metadata": {},
   "source": [
    "<center><h2>Виконав студент групи РА-241 Жук Дмитро</h2></center>"
   ]
  },
  {
   "cell_type": "markdown",
   "id": "522b1f37-d606-4b5b-bb3b-64fc2fc18953",
   "metadata": {},
   "source": [
    "<h4>Мета роботи - дослідження амплітудних та фазових співвідношень у ланцюгах змінного струму, частотних характеристик та резонансних явищ, побудова векторних діаграм струмів та напруг.</h4>"
   ]
  },
  {
   "cell_type": "markdown",
   "id": "4a404b60-681d-45aa-a6c3-9b86e14296d1",
   "metadata": {},
   "source": [
    "При виконанні роботи вивчатимемо схему, наведену на малюнку 2.1"
   ]
  },
  {
   "cell_type": "markdown",
   "id": "3287699f-eb5d-40b6-830e-2209f3fbddd2",
   "metadata": {},
   "source": [
    "<center><img src=\"images/WINWORD_Gcuhxfo8Yi.png\" width=\"450\"/> <h4>Рисунок 2.1 - Електрична схема</h4></center>\n"
   ]
  },
  {
   "cell_type": "markdown",
   "id": "58bb1a1b-2670-4f25-8e6a-f567202dcbe6",
   "metadata": {},
   "source": [
    "Двополюсники, які мають бути досліджені в роботі, показані на (рис. 2.2)."
   ]
  },
  {
   "cell_type": "markdown",
   "id": "187c11ab-68df-4a9c-930d-1fbe733d41f0",
   "metadata": {},
   "source": [
    "<center><img src=\"images/WINWORD_OT27yfa5sk.png\" width=\"450\"/> <h4>Рисунок 2.2</h4></center>"
   ]
  },
  {
   "cell_type": "markdown",
   "id": "cb653756-256e-4d37-93a6-a5684eb2df37",
   "metadata": {},
   "source": [
    "При дослідженнях ці ланцюги включають між точками А та В згідно зі схемою рис. 2.1. Значення індуктивностей La, Lb = 10 мГн та ємностей Ca, Cb = 33 нФ, опір R1 = 100 Ом."
   ]
  },
  {
   "cell_type": "markdown",
   "id": "b68bb027-f6de-4cdc-b82e-54614be4a07c",
   "metadata": {},
   "source": [
    "<center><h4>Хід роботи</h4><center></center>"
   ]
  },
  {
   "cell_type": "markdown",
   "id": "cfefbbfa-cb1a-46d5-a771-f21eb87be572",
   "metadata": {},
   "source": [
    "У програмному середовищі TINA зберемо схему, що вивчається (рис. 2.1). \n"
   ]
  },
  {
   "cell_type": "markdown",
   "id": "16a04e5d-84c4-483f-bf8b-3a26250316dd",
   "metadata": {},
   "source": [
    "У генераторі напруги VG1 необхідно встановити синусоїдальну форму сигналу, частотою 5 кГц, амплітудою 1, фазою 0°."
   ]
  },
  {
   "cell_type": "markdown",
   "id": "b5e8533d-ca4c-476e-aaf2-d6376baf2ed7",
   "metadata": {},
   "source": [
    "Далі налаштуємо осцилограф. На вкладці головного меню Т&М виберемо пункт меню \"Осцилограф\" (\"Oscilloscope\"). \n",
    "Встановимо горизонтальну розгортку 50 мкс, VM1 – вертикальну чутливість 1 В/поділ., VM2 – вертикальну чутливість 1 В/поділ., режим синхронізації встановимо \"Single\". Для того, щоб відобразити на екрані осцилографа сигнали зі схеми, треба у вікні \"Channel\" вибрати сигнал, у вікні \"Vertical\" встановити потрібну чутливість і у вікні \"Coupling\" встановити DC або AC (залежно від форми сигналу) і натиснути ON. Якщо для вибраного сигналу встановити невірну чутливість, сигнал не відображатиметься на осцилографі. Щоб запустити відображення на екрані осцилографа, необхідно натиснути кнопку \"Run\". "
   ]
  },
  {
   "cell_type": "markdown",
   "id": "1f8992fe-f84b-4c23-b2af-c742033e9a4a",
   "metadata": {},
   "source": [
    "<center><img src=\"images/chrome_BuxE3mbWNJ.png\" width=\"800\"/> <h4>Рисунок 2.3 - Графіки напруги</h4></center>"
   ]
  },
  {
   "cell_type": "markdown",
   "id": "9a1530d5-1965-49e6-8733-454cd74346e5",
   "metadata": {},
   "source": [
    "Підключимо між точками А і B індуктивність La і розрахуємо частоту сигналу генератора f1, коли реактивний опір індуктивності XL дорівнює опору R1. Для цього використаємо бібліотеку SumPy."
   ]
  },
  {
   "cell_type": "markdown",
   "id": "3a70aff8-eea7-4ce3-b8bc-7832d1f53b96",
   "metadata": {},
   "source": [
    "$$ X_L = 2 \\cdot \\pi \\cdot f_1 \\cdot L_a = R_1 $$"
   ]
  },
  {
   "cell_type": "code",
   "execution_count": 2,
   "id": "77ad94f9-6ef8-4515-ba77-dad67032e050",
   "metadata": {},
   "outputs": [
    {
     "name": "stdout",
     "output_type": "stream",
     "text": [
      "Частота сигналу генератора f1, коли X_L = R1: 1591.5 Гц\n"
     ]
    }
   ],
   "source": [
    "import sympy as smp      # Імпортуємо бібліотеку SymPy для символьних обчислень\n",
    "import math              # Імпортуємо math, щоб мати доступ до константи π\n",
    "\n",
    "# Задаємо відомі числові значення:\n",
    "R1_s = 100              \n",
    "La_s = 0.01              \n",
    "\n",
    "# Оголошуємо символьні змінні для формули\n",
    "X_L, f1, R1, La = smp.symbols('X_L f1 R1 La')\n",
    "\n",
    "# Оскільки X_L = R1, то 2πf1La = R1\n",
    "eq1 = smp.Eq(2 * math.pi * f1 * La, R1)\n",
    "\n",
    "# Розв’язуємо рівняння відносно змінної f1 (частоти)\n",
    "eq1_solve = smp.solve(eq1, f1)\n",
    "\n",
    "# Підставляємо числові значення R1 = 100, La = 0.01 у знайдений розв’язок\n",
    "eq1_sub = eq1_solve[0].subs(R1, R1_s).subs(La, La_s)\n",
    "\n",
    "# Виводимо отримане значення частоти f1\n",
    "print(F\"Частота сигналу генератора f1, коли X_L = R1: {eq1_sub:.1f} Гц\")"
   ]
  },
  {
   "cell_type": "markdown",
   "id": "91d4e396-38d8-4721-b6e6-b215ac4459b7",
   "metadata": {},
   "source": [
    "Встановимо напругу генератора VG1, що дорівнює 1 В, а частоту дорівнює 0,1f1. Значення DX = ХB - ХA = Т2 - Т1 визначає часовий зсув осцилограми."
   ]
  },
  {
   "cell_type": "markdown",
   "id": "8cb0e8ee-970b-4701-8187-8e584548b867",
   "metadata": {},
   "source": [
    "<center><img src=\"images/chrome_WTFKGhDbAd.png\" width=\"800\"/> <h4>Рисунок 2.4</h4></center>"
   ]
  },
  {
   "cell_type": "markdown",
   "id": "08807b4e-098d-4fa6-a7d4-a15008989a26",
   "metadata": {},
   "source": [
    "Розрахуємо різницю фаз за такою формулою:\n",
    "$$\n",
    "\\varphi = 2 \\cdot \\pi \\cdot f \\cdot (T2 - T1)\n",
    "$$"
   ]
  },
  {
   "cell_type": "code",
   "execution_count": 51,
   "id": "0980fc7d-0db3-45c3-99fa-435977018a5f",
   "metadata": {},
   "outputs": [
    {
     "name": "stdout",
     "output_type": "stream",
     "text": [
      "Різниця фаз: 0.9997 рад\n"
     ]
    }
   ],
   "source": [
    "# Задаємо відомі числові значення:\n",
    "f = 1591.15              \n",
    "DX = 0.000100             \n",
    "\n",
    "# Розв’язуємо рівняння\n",
    "fi = 2 * math.pi * f * DX\n",
    "\n",
    "# Виводимо отримане значення \n",
    "print(F\"Різниця фаз: {fi:.4f} рад\")"
   ]
  },
  {
   "cell_type": "markdown",
   "id": "b8757186-483d-441a-9932-a209f3d2fa8e",
   "metadata": {},
   "source": [
    "Вибравши пункти меню \"Аналіз - Аналіз змінного струму - Таблиця результатів змінного струму\", запишемо значення для $U_{VМ1}$, $U_{VМ2}$ = 1,22 В та $I_{L1}$ = 9,95 мА."
   ]
  },
  {
   "cell_type": "markdown",
   "id": "6c55ebf3-86dd-4de7-867b-d35d85b776d6",
   "metadata": {},
   "source": [
    "Через пункти меню (\"Analysis - Time function\") встановивши (Start time = 0), а \"Закінчити показ\" (End time) рівним приблизно 2 - 3 періодів досліджуваної частоти отримаємо графіки напруг VМ1 і VМ2. У нашому випадку період T дорівнюватиме $T = 1 / 0,1 \\cdot f_1$. отримане значення необхідно збільшити 2 – 3 рази (рис. 2.5)."
   ]
  },
  {
   "cell_type": "markdown",
   "id": "1b49dcb4-bd54-4303-97fe-719bed37c2a4",
   "metadata": {},
   "source": [
    "$T_1 = \\dfrac{1}{0,1 \\cdot f_1} \\cdot 3 = \\dfrac{1}{0,1 \\cdot 1591.5} \\cdot 3 = 18.85  $ $мілісекунд.$"
   ]
  },
  {
   "cell_type": "markdown",
   "id": "9a850b3a-4d37-4cef-916e-7d1a8fcf8e60",
   "metadata": {},
   "source": [
    "<center><img src=\"images/TINA_tB1cAddDpN.png\" width=\"400\"/> <h4>Рисунок 2.5 - Графіки напруг VМ1 і VМ2 ($0,1 \\cdot f_1$)</h4></center>"
   ]
  },
  {
   "cell_type": "markdown",
   "id": "3317f2b1-4f37-4569-99a7-271bb79668a2",
   "metadata": {},
   "source": [
    "Повторимо дослідження для частот $f_1$ та $10 \\cdot f_1$."
   ]
  },
  {
   "cell_type": "markdown",
   "id": "4991d538-874f-4b67-aab2-daf177d02d8c",
   "metadata": {},
   "source": [
    "$T_2 = \\dfrac{1}{f_1} \\cdot 3 = \\dfrac{1}{1591.5} \\cdot 3 = 1,885  $ $мілісекунд.$"
   ]
  },
  {
   "cell_type": "markdown",
   "id": "0c10d5a6-9988-4d4a-9e2f-07d76d570b8d",
   "metadata": {},
   "source": [
    "<center><img src=\"images/TINA_6F0MLZOKxg.png\" width=\"400\"/> <h4>Рисунок 2.6 - Графіки напруг VМ1 і VМ2 ($f_1$)</h4></center>"
   ]
  },
  {
   "cell_type": "markdown",
   "id": "6bd73b36-7497-4231-b812-b54185e9cd75",
   "metadata": {},
   "source": [
    "$T_3 = \\dfrac{1}{ 10 \\cdot f_1} \\cdot 3 = \\dfrac{1}{ 10 \\cdot 1591.5} \\cdot 3 = 0,1885  $ $мілісекунд.$"
   ]
  },
  {
   "attachments": {},
   "cell_type": "markdown",
   "id": "8dae7974-4bbf-40fe-b967-eb891b265dc0",
   "metadata": {},
   "source": [
    "<center><img src=\"images/TINA_bBqdEaG48w.png\" width=\"400\"/> <h4>Рисунок 2.7 - Графіки напруг VМ1 і VМ2 ($10 \\cdot f_1$)</h4></center>"
   ]
  },
  {
   "cell_type": "markdown",
   "id": "42b81a02-abef-4920-b1b8-6d8de2e75fec",
   "metadata": {},
   "source": [
    "Вибравши в головному меню (\"Analysis - AC Analysis - AC Transfer characteristic\"), встановлюємо діапазон частот від $0,1 \\cdot f_1$ до $10 \\cdot f_1$, з лінійною розгорткою тип діаграми - \"Амплітуда та Фаза\" і отримуємо графіки АЧХ та ФЧХ (рис. 2.8)."
   ]
  },
  {
   "cell_type": "markdown",
   "id": "aa41c55f-c0ed-412e-897a-eab227bb84a8",
   "metadata": {},
   "source": [
    "<center><img src=\"images/TINA_MEYZpewO0m.png\" width=\"400\"/> <h4>Рисунок 2.8 - Графіки АЧХ та ФЧХ $L_a$ (Лінійна розгортка)</h4></center>"
   ]
  },
  {
   "cell_type": "markdown",
   "id": "32201714-a8b1-47eb-90f4-95c9f50eb458",
   "metadata": {},
   "source": [
    "Також побудуємо графіки АЧХ та ФЧХ для логарифмічної розгортки (рис. 2.9)."
   ]
  },
  {
   "cell_type": "markdown",
   "id": "c3e7eafa-7e89-4f23-bccb-1ecf8756ff69",
   "metadata": {},
   "source": [
    "<center><img src=\"images/TINA_a8orHAQRn2.png\" width=\"400\"/> <h4>Рисунок 2.8 - Графіки АЧХ та ФЧХ $L_a$ (Логарифмічна розгортка)</h4></center>"
   ]
  },
  {
   "cell_type": "markdown",
   "id": "b6d77d4b-7341-44c9-b071-97a0c305aa52",
   "metadata": {},
   "source": [
    "Увімкнемо між точками А та B ємність $С_а$ та розрахуємо частоту сигналу генератора $f_2$, при якій реактивний опір ємності дорівнює опору R1 (R1 = 100 Ом). Для цього як і раніше використаємо бібліотеку SumPy."
   ]
  },
  {
   "cell_type": "markdown",
   "id": "b068a782-f779-4ea2-8857-ed1a7101d878",
   "metadata": {},
   "source": [
    "$$ X_C = \\frac{1}{2 \\cdot \\pi \\cdot f_2 \\cdot C_a} = R1 $$"
   ]
  },
  {
   "cell_type": "code",
   "execution_count": 5,
   "id": "58235406-250d-48da-9f65-4d9befd1e1cb",
   "metadata": {
    "scrolled": true
   },
   "outputs": [
    {
     "name": "stdout",
     "output_type": "stream",
     "text": [
      "Частота сигналу генератора f1, коли X_C = R1: 48228.8\n"
     ]
    }
   ],
   "source": [
    "# Задаємо відомі числові значення:\n",
    "R1_s = 100              \n",
    "Ca_s = 3.3 * 10 **-8              \n",
    "\n",
    "# Оголошуємо символьні змінні для формули\n",
    "X_C, f2, R1, Ca = smp.symbols('X_C f2 R1 Ca')\n",
    "\n",
    "# Оскільки X_L = R1, то 2πf1La = R1\n",
    "eq1 = smp.Eq(1 / (2 * math.pi * f2 * Ca), R1)\n",
    "\n",
    "# Розв’язуємо рівняння відносно змінної f2 (частоти)\n",
    "eq1_solve = smp.solve(eq1, f2)\n",
    "\n",
    "# Підставляємо числові значення \n",
    "eq1_sub = eq1_solve[0].subs(R1, R1_s).subs(Ca, Ca_s)\n",
    "\n",
    "# Виводимо отримане значення частоти f2\n",
    "print(F\"Частота сигналу генератора f1, коли X_C = R1: {eq1_sub:.1f} Гц\")"
   ]
  },
  {
   "cell_type": "markdown",
   "id": "555a5c62-7095-4ca2-a352-49f8fa32cd06",
   "metadata": {},
   "source": [
    "**Повторимо дослідження виконані раніше, але для ємності $C_a$.**"
   ]
  },
  {
   "cell_type": "code",
   "execution_count": 6,
   "id": "75d39628-ea67-4a6c-89a2-4c49f30b5c3e",
   "metadata": {},
   "outputs": [
    {
     "data": {
      "text/plain": [
       "[0.159154943091895/(Ca*R1)]"
      ]
     },
     "execution_count": 6,
     "metadata": {},
     "output_type": "execute_result"
    }
   ],
   "source": [
    "eq1_solve"
   ]
  },
  {
   "cell_type": "markdown",
   "id": "557c62fc-8815-4931-9c7d-e2cf098e4a2a",
   "metadata": {},
   "source": [
    "Визначимо часовий зсув осцилограми (рис. 2.9)."
   ]
  },
  {
   "cell_type": "markdown",
   "id": "b184606d-86b6-4b87-8c2c-693b4d7d9ea4",
   "metadata": {},
   "source": [
    "<center><img src=\"images/TINA_vq2JVpHdQd.png\" width=\"700\"/> <h4>Рисунок 2.9 - Часовий зсув осцилограми</h4></center>"
   ]
  },
  {
   "cell_type": "markdown",
   "id": "06714125-6103-4e0e-bfa2-cc7e5e5d020e",
   "metadata": {},
   "source": [
    "Запишемо значення для $U_{VМ1}$ = 1,22 В, $U_{VМ2}$ = 0,7036 В та $I_{C1}$ = 0,99502 мА."
   ]
  },
  {
   "cell_type": "markdown",
   "id": "94edbe3f-6a5f-453c-8142-080ec5364cf2",
   "metadata": {},
   "source": [
    "$T_1 = \\dfrac{1}{ 0,1 \\cdot f_1} \\cdot 3 = \\dfrac{1}{ 0,1 \\cdot 48228.8} \\cdot 3 = 0,62203  $ $мілісекунд.$"
   ]
  },
  {
   "attachments": {},
   "cell_type": "markdown",
   "id": "844fb7d2-0acf-4243-b1ab-80d8c573758f",
   "metadata": {},
   "source": [
    "<center><img src=\"images/TINA_lJiJIoKmNA.png\" width=\"400\"/> <h4>Рисунок 2.10 - Графіки напруг VМ1 і VМ2 ($0,1 \\cdot f_1$)</h4></center>"
   ]
  },
  {
   "cell_type": "markdown",
   "id": "5aa34660-7f28-4839-9665-56bf3344b078",
   "metadata": {},
   "source": [
    "$T_2 = \\dfrac{1}{f_1} \\cdot 3 = \\dfrac{1}{48228.8} \\cdot 3 = 62,203  $ $мікросекунд.$"
   ]
  },
  {
   "cell_type": "markdown",
   "id": "ec70a3a4-0c03-4599-a9fd-a43d1b259c7f",
   "metadata": {},
   "source": [
    "<center><img src=\"images/TINA_tDxAuconi5.png\" width=\"400\"/> <h4>Рисунок 2.11 - Графіки напруг VМ1 і VМ2 ($f_1$)</h4></center>"
   ]
  },
  {
   "cell_type": "markdown",
   "id": "ee0b9416-661c-4dc2-b29b-fe85ef2e178c",
   "metadata": {},
   "source": [
    "$T_3 = \\dfrac{1}{10 \\cdot f_1} \\cdot 3 = \\dfrac{1}{10 \\cdot 48228.8} \\cdot 3 = 6,2203  $ $мікросекунд.$"
   ]
  },
  {
   "cell_type": "markdown",
   "id": "51995fc3-8686-4705-a5a1-101e4e1892de",
   "metadata": {},
   "source": [
    "<center><img src=\"images/TINA_dK57EtyApI.png\" width=\"400\"/> <h4>Рисунок 2.12 - Графіки напруг VМ1 і VМ2 ($10 \\cdot f_1$)</h4></center>"
   ]
  },
  {
   "cell_type": "markdown",
   "id": "fcf6020f-9ac0-4b64-8d92-bea3169f7df4",
   "metadata": {},
   "source": [
    "Побудуємо графіки АЧХ та ФЧХ для ємності ($C_a$)."
   ]
  },
  {
   "cell_type": "markdown",
   "id": "a99d518e-f2a7-4acc-9dea-65d8ab05545b",
   "metadata": {},
   "source": [
    "<center><img src=\"images/TINA_dms1R8ht3z.png\" width=\"400\"/> <img src=\"images/TINA_T09qHqdu2T.png\" width=\"400\"/> <h4>Рисунок 2.13 - Графіки АЧХ та ФЧХ $C_a$ (Лінійна та Логарифмічна розгортки)</h4></center>"
   ]
  },
  {
   "cell_type": "markdown",
   "id": "0281dc67-7149-424a-8122-6e55955a7838",
   "metadata": {},
   "source": [
    "Для дослідження RLC ланцюга увімкнемо між точками А та B послідовно індуктивність $L_a$ та ємність $C_a$ та розрахуємо частоту резонансу $f_3$ даного RLC ланцюга. "
   ]
  },
  {
   "cell_type": "markdown",
   "id": "11ba8f11-8ff5-41c4-a22d-a741737d7176",
   "metadata": {},
   "source": [
    "$$ f_3 = \\frac{1}{2 \\cdot \\pi \\cdot \\sqrt{L_a \\cdot C_a}} $$"
   ]
  },
  {
   "cell_type": "code",
   "execution_count": 9,
   "id": "669d875a-e16b-4452-b017-a160664c4e6d",
   "metadata": {},
   "outputs": [
    {
     "name": "stdout",
     "output_type": "stream",
     "text": [
      " Частота резонансу: 8761.2 Гц\n"
     ]
    }
   ],
   "source": [
    "# Задаємо відомі числові значення:\n",
    "L_a = 0.01              \n",
    "C_a = 3.3 * 10 **-8             \n",
    "\n",
    "# Розв’язуємо рівняння\n",
    "f3 = 1 / (2 * math.pi * math.sqrt(L_a * C_a))\n",
    "\n",
    "# Виводимо отримане значення \n",
    "print(F\" Частота резонансу: {f3:.1f} Гц\")"
   ]
  },
  {
   "cell_type": "markdown",
   "id": "e1d0b5af-fdff-4673-9605-cae37bba2c3a",
   "metadata": {},
   "source": [
    "Додамо до нашої схеми ще два вольтметри, як показано на (рис 2.14)."
   ]
  },
  {
   "cell_type": "markdown",
   "id": "92ee63d9-b82a-4c21-b6ab-d181b867069b",
   "metadata": {},
   "source": [
    "<center><img src=\"images/WINWORD_3KmNzDhWtk.png\" width=\"400\"/> <h4>Рисунок 2.14</h4></center>"
   ]
  },
  {
   "cell_type": "markdown",
   "id": "87573ae4-3427-4964-a6d0-21bc610a8606",
   "metadata": {},
   "source": [
    "Встановимо напругу генератора VG1 = 1 В, а частоту = $f_3$. Вибравши пункти меню (\"Analysis - AC Analysis - Table of AC results\"), запишемо значення напруги та фази для $U_{VM1}$, $U_{VM2}$, $U_{VM3}$, $U_{VM4}$ та $I_{L1}$ до таблиці 2.1. Також повторимо дослідження для частот $0,1 \\cdot f_3$ і $10 \\cdot f_3$."
   ]
  },
  {
   "cell_type": "markdown",
   "id": "f8b03cdf-a26c-43f8-a92c-fd88a215d659",
   "metadata": {},
   "source": [
    "Таблиця вимірів та розрахунків 2.1\n",
    "| Частота, Гц | $U_{VM1}$, В | $\\varphi_{VM1}$ | $U_{VM2}$, В | $\\varphi_{VM2}$ | $U_{VM3}$, В | $\\varphi_{VM3}$ | $U_{VM4}$, В | $\\varphi_{VM4}$ | $I_{L1}, мА$ | $\\varphi_{IL1}$ |\n",
    "| :-- | :-- | :-- | :-- | :-- | :-- | :-- | :-- | :-- | :-- | :-- |\n",
    "| 876.12 | 1.22 | -90° | 0.013 | -1.05° |  0.0714 | 88.95° |  1.23 | -91.05° | 0.183 | -1.05° |\n",
    "| 8761.2 | 1.22 | -90° | 0.707 | -90° | 3.89 | --- |  4.02 | 180° | 10 | -90° |\n",
    "| 87612 | 1.22 | -90° | 0.013 | -178.95° | 0.0714 | -88.95° | 1 | 91.05° | 0.183 | -178.95° |"
   ]
  },
  {
   "attachments": {},
   "cell_type": "markdown",
   "id": "e4f18cef-8623-4e4b-9cd8-07df64cb9e89",
   "metadata": {},
   "source": [
    "<center><img src=\"images/TINA_nPqYQ55L9F.png\" width=\"400\"/> <h4>Рисунок 2.15 - Графіки напруг VМ1, VМ2, VМ3 і VМ4</h4></center>"
   ]
  },
  {
   "cell_type": "markdown",
   "id": "421d35b8-e761-4a87-8f63-873e0cfe4b36",
   "metadata": {},
   "source": [
    "За отриманими графіками (рис. 2.16, 2.17) частота послідовного резонансу приблизно становить 8.67 кГц. "
   ]
  },
  {
   "cell_type": "markdown",
   "id": "f531a1d2-967d-4dc6-a48b-673332bd7b22",
   "metadata": {},
   "source": [
    "<center><img src=\"images/TINA_6RTYKxxisq.png\" width=\"400\"/> <img src=\"images/TINA_IoDfH0Tl4C.png\" width=\"400\"/> <h4>Рисунок 2.16 - Графіки АЧХ та ФЧХ (Лінійна та Логарифмічна розгортки)</h4></center>"
   ]
  },
  {
   "cell_type": "markdown",
   "id": "3ba6541d-25a9-4a0a-84e2-5a861220d358",
   "metadata": {},
   "source": [
    "Приберемо зі схеми всі вольтметри, крім вольтметра VМ2. Через пункт меню «Аналіз – Об'єкт управління» зробимо резистор R1 керованим, тобто задамо йому чотири значення від 100 до 900 Ом з кроком 200 Ом. "
   ]
  },
  {
   "cell_type": "markdown",
   "id": "9cf9b00a-d5f0-4191-8af2-4f6ae7db5017",
   "metadata": {},
   "source": [
    "<center><img src=\"images/TINA_Xd6IKQJ2X2.png\" width=\"400\"/> <h4>Рисунок 2.17 - Графіки АЧХ та ФЧХ (При різних втратах в RLC ланцюзі)</h4></center>"
   ]
  },
  {
   "cell_type": "markdown",
   "id": "9b65eb7c-99bc-4633-8980-ab9b3a8b019f",
   "metadata": {},
   "source": [
    "Дивлячись на (рис. 2.17), можна зробити висновок, що при більшому опорі $R1$ струм в колі менше, а значить, $R1$ демпфує (гасить) коливання, заважаючи $L1$ та $C1$ ефективно обмінюватися енергією. Це робить резонансний пік нижчим і ширшим."
   ]
  },
  {
   "cell_type": "markdown",
   "id": "27eb9e65-50ca-4a06-8413-a87f2aff07cb",
   "metadata": {},
   "source": [
    "Підключимо до точок А і B схему з двома ємностями (рис. 2.17). Встановимо амплітуду сигналу генератора напруги 1 В. Отримаємо граіки АЧХ і ФЧХ двополюсника в діапазоні частот від 2 до 20 кГц (рис. 2.18)."
   ]
  },
  {
   "cell_type": "markdown",
   "id": "55ba6a73-e210-43b3-a3a5-6ed2be68ac39",
   "metadata": {},
   "source": [
    "<center><img src=\"images/TINA_GTo2Ec9PAi.png\" width=\"300\"/> <h4>Рисунок 2.17 - Схема з двома ємностями</h4></center>"
   ]
  },
  {
   "cell_type": "markdown",
   "id": "d1404555-cfa6-4375-a9ea-b935f6a6552e",
   "metadata": {},
   "source": [
    "<center><img src=\"images/TINA_wcF8Lg6euD.png\" width=\"400\"/> <h4>Рисунок 2.18 - Графіки АЧХ та ФЧХ (від 2 до 20 кГц)</h4></center>"
   ]
  },
  {
   "cell_type": "markdown",
   "id": "ea127852-7f1d-4022-9625-a907fedffbfa",
   "metadata": {},
   "source": [
    "В діапазоні частот від 2 до 20 кГц (з кроком через 2 кГц) виміряємо напруги і фази у вузлах А ($U_{VM1}$) і B ($U_{VM2}$). Результати запишемо в таблицю 2.2."
   ]
  },
  {
   "cell_type": "markdown",
   "id": "b7c6a45d-6fc5-4431-8995-55e752b12460",
   "metadata": {},
   "source": [
    "Таблиця вимірів та розрахунків 2.2\n",
    "| Частота, Гц | $U_{VM1}$, В | $\\varphi_{VM1}$ | $U_{VM2}$, В | $\\varphi_{VM2}$ |\n",
    "|:-----|:-----|:-----|:-----|:-----|\n",
    "| 2000 | 1 | -90° | 0.06 | -4.87° |\n",
    "| 4000 | 1 | -90° | 0.13 | -10.63° |\n",
    "| 6000 | 1 | -90° | 0.337 | -19.73° |\n",
    "| 8000 | 1 | -90° | 0.758 | -49.33° |\n",
    "| 10000 | 1 | -90° | 0.430 | -154.48° |\n",
    "| 12000 | 1 | -90° | 0.035 | -177.98° |\n",
    "| 14000 | 1 | -90° | 0.102 | -5.9° |\n",
    "| 16000 | 1 | -90° | 0.186 | -10.74° |\n",
    "| 18000 | 1 | -90° | 0.25 | -14.43° |\n",
    "| 20000 | 1 | -90° | 0.3 | -17.55° |"
   ]
  },
  {
   "cell_type": "markdown",
   "id": "ad228b51-9968-4fbd-bdae-8a2d835d71f0",
   "metadata": {},
   "source": [
    "Для своєї схеми з триелементним двополюсником на частоті, f = 0,5*N + n + 2 кГц (N – номер підгрупи, а n – номер бригади), виміряємо напругу і фази в точках схеми А, B і D. Результати запишемо в таблицю 2.3."
   ]
  },
  {
   "cell_type": "markdown",
   "id": "4e8d2eb3-82a3-4331-985e-392e0eb7056c",
   "metadata": {},
   "source": [
    "$$\n",
    "f = 0.5 \\cdot N + n + 2000 =\n",
    "$$"
   ]
  },
  {
   "cell_type": "markdown",
   "id": "0d3b526e-f2fc-47f3-b798-44ac1b53f985",
   "metadata": {},
   "source": [
    "$$\n",
    "f = 0.5 \\cdot N + n + 2000 = 0.5 \\cdot 1 + 2 + 2000 = 2002.5\n",
    "$$"
   ]
  },
  {
   "cell_type": "markdown",
   "id": "0c3bf34d-a184-4d91-a785-baa20a710425",
   "metadata": {},
   "source": [
    "Таблиця вимірів та розрахунків 2.3\n",
    "| Частота, Гц | $U_{A}$, В | $\\varphi_{A}$ | $U_{B}$, В | $\\varphi_{B}$ | $U_{D}$, В | $\\varphi_{D}$ |\n",
    "|:-----|:-----|:-----|:-----|:-----|:-----|:-----|\n",
    "| 2002.5 | 1 | -90° | 0.085 | -4.88° | 1.05 | -90.25° |"
   ]
  },
  {
   "cell_type": "markdown",
   "id": "59fbea73-6309-4802-8858-1ced9ebfd204",
   "metadata": {},
   "source": [
    "Тепер розрахуємо напруги і фази в точках схеми А, B і D. Результати запишемо в таблицю 2.4."
   ]
  },
  {
   "cell_type": "markdown",
   "id": "7c25134e-50cd-46f0-ba45-de5f70e67f2f",
   "metadata": {},
   "source": [
    "Таблиця вимірів та розрахунків 2.4\n",
    "| Частота, Гц | $U_{A}$, В | $\\varphi_{A}$ | $U_{B}$, В | $\\varphi_{B}$ | $U_{D}$, В | $\\varphi_{D}$ |\n",
    "|:-----|:-----|:-----|:-----|:-----|:-----|:-----|\n",
    "| 2002.5 | 1 | -90° |  | ° |  | ° |"
   ]
  },
  {
   "cell_type": "markdown",
   "id": "868a65e8-4079-4893-afde-205fec78d48e",
   "metadata": {},
   "source": [
    "Запишемо рівняння для схеми в копмлесній формі:\n",
    "$$\n",
    "i_mR + i_m j\\omega L + i_m \\left(\\frac{-j}{\\omega C_1 + C_2}\\right) = \\dot{E}_m\n",
    "$$"
   ]
  },
  {
   "cell_type": "markdown",
   "id": "cab8e6d1-701f-4cdb-862c-e8505c578d0f",
   "metadata": {},
   "source": [
    "Запишемо рівняння для схеми в копмлесній формі:\n",
    "$$\n",
    "I_m \\left(R + j\\omega L + \\frac{1}{j \\omega (C_1 + C_2)}\\right) = \\dot{E}_m\n",
    "$$"
   ]
  },
  {
   "cell_type": "code",
   "execution_count": 76,
   "id": "2d0e742b-329e-4e6e-9a48-e5dc2caf9466",
   "metadata": {},
   "outputs": [
    {
     "name": "stdout",
     "output_type": "stream",
     "text": [
      "0.04376757934148486\n",
      "1.055018695239895\n",
      "87.49150110862159\n",
      "-0.13089416987344982\n"
     ]
    }
   ],
   "source": [
    "import sympy as smp\n",
    "import numpy as nmp\n",
    "import math\n",
    "from sympy import lambdify\n",
    "\n",
    "E_s = 1;\n",
    "R_s = 100;\n",
    "L_s = 0.01;\n",
    "C1_s = 3.3 * 10 **-8;\n",
    "C2_s = 3.3 * 10 **-8;\n",
    "f_s = 2002.5;\n",
    "j = smp.I\n",
    "\n",
    "# Оголошуємо символьні змінні для формули\n",
    "I, E, R, L, C1, C2, W, f, = smp.symbols('I E R L C1 C2 W f')\n",
    "\n",
    "#eq = [I*((1/(1/((j*W*L)+(1/(j*W*C1)))+(1/(1/(j*W*C2)))))+R)-E]\n",
    "\n",
    "eq = [E / (R + (1/(1/((j*W*L)+(1/(j*W*C1))+1/(1/(j*W*C2))))))-I]\n",
    "\n",
    "sol = smp.solve(eq, [I])\n",
    "sol[I]\n",
    "\n",
    "\n",
    "V_b = sol[I] * R\n",
    "V_d = E - (sol[I]*(j*W*L))\n",
    "\n",
    "V_b_f = lambdify([E, R, L, C1, C2, W], V_b, 'numpy')\n",
    "V_d_f = lambdify([E, R, L, C1, C2, W], V_d, 'numpy')\n",
    "\n",
    "print(nmp.abs(V_b_f(E_s, R_s, L_s, C1_s, C2_s, 2*nmp.pi*f_s)))\n",
    "print(nmp.abs(V_d_f(E_s, R_s, L_s, C1_s, C2_s, 2*nmp.pi*f_s)))\n",
    "\n",
    "print(nmp.angle(V_b_f(E_s, R_s, L_s, C1_s, C2_s, 2*nmp.pi*f_s),deg=True))\n",
    "print(nmp.angle(V_d_f(E_s, R_s, L_s, C1_s, C2_s, 2*nmp.pi*f_s),deg=True))\n"
   ]
  },
  {
   "cell_type": "code",
   "execution_count": 77,
   "id": "f0b8bda9-4f33-4bdb-b6e3-233d9733d4d4",
   "metadata": {},
   "outputs": [
    {
     "data": {
      "text/latex": [
       "$\\displaystyle - \\frac{i C_{1} E W}{C_{1} C_{2} W^{2} + C_{1} L W^{2} - i C_{1} R W - 1}$"
      ],
      "text/plain": [
       "-I*C1*E*W/(C1*C2*W**2 + C1*L*W**2 - I*C1*R*W - 1)"
      ]
     },
     "execution_count": 77,
     "metadata": {},
     "output_type": "execute_result"
    }
   ],
   "source": [
    "sol[I]"
   ]
  },
  {
   "cell_type": "code",
   "execution_count": 78,
   "id": "7de821c7-c773-4601-839f-60363381267b",
   "metadata": {
    "scrolled": true
   },
   "outputs": [
    {
     "name": "stdout",
     "output_type": "stream",
     "text": [
      "Модуль V_B: 0.08502144059651957\n",
      "Модуль V_D: 1.106624678733261\n",
      "Фаза V_B (градуси): 85.1227422115753\n",
      "Фаза V_D (градуси): -0.4709084489431899\n"
     ]
    }
   ],
   "source": [
    "import numpy as np\n",
    "from cmath import rect\n",
    "\n",
    "E_s = 1\n",
    "R_s = 100\n",
    "L_s = 0.01\n",
    "C1_s = C2_s = 3.3 * 10 ** -8\n",
    "f_s = 2002.5\n",
    "omega = 2 * np.pi * f_s\n",
    "\n",
    "# Опори\n",
    "Z_L = 1j * omega * L_s\n",
    "Z_C1 = 1 / (1j * omega * C1_s)\n",
    "Z_C2 = 1 / (1j * omega * C2_s)\n",
    "Z_LC1 = Z_L + Z_C1\n",
    "Z_eq = 1 / (1 / Z_LC1 + 1 / Z_C2)\n",
    "Z_total = R_s + Z_eq\n",
    "\n",
    "# Струм\n",
    "I = E_s / Z_total\n",
    "\n",
    "# Напруги\n",
    "V_A = E_s\n",
    "V_B = I * R_s\n",
    "V_L = I * Z_L\n",
    "V_D = V_A - V_L  # Напруга в точці D (після L1)\n",
    "\n",
    "# Модулі та фази\n",
    "print(\"Модуль V_B:\", abs(V_B))\n",
    "print(\"Модуль V_D:\", abs(V_D))\n",
    "print(\"Фаза V_B (градуси):\", np.angle(V_B, deg=True))\n",
    "print(\"Фаза V_D (градуси):\", np.angle(V_D, deg=True))"
   ]
  },
  {
   "cell_type": "markdown",
   "id": "a5df18b2-0970-4d00-b6fe-f4a376823488",
   "metadata": {},
   "source": [
    "#### Висновок\n",
    "В результаті виконання лабораторної роботи були досліджені амплітудні та фазові співвідношення, а також резонансні явища в RLC-колах змінного струму. Розрахунки для послідовного коливального контуру показали, що теоретична резонансна частота становить 8.76 кГц, що добре узгоджується з експериментально отриманим піком на амплітудно-частотній характеристиці (АЧХ) на рівні ~8.67 кГц. Вимірювання напруг на реактивних елементах у режимі резонансу продемонстрували значне їх перевищення над напругою джерела живлення, що підтверджує явище резонансу напруг.\n",
    "\n",
    "Аналіз впливу активного опору R1 (у діапазоні від 100 до 900 Ом) на характеристики контуру показав, що збільшення опору призводить до демпфування коливань, що виражається у зниженні та розширенні резонансного піку на АЧХ. Це підтверджує теоретичні положення про добротність коливального контуру. Теоретичні розрахунки вузлових напруг та фаз, виконані за допомогою методу комплексних амплітуд, показали відповідність результатам, отриманим у середовищі моделювання TINA.\n",
    "\n",
    "Результати роботи демонструють точність теоретичних розрахунків та їхню практичну застосовність для аналізу та проектування електричних кіл змінного струму. Для підвищення точності в майбутніх дослідженнях рекомендується провести натурні експериментальні вимірювання для врахування неідеальності реальних компонентів."
   ]
  },
  {
   "cell_type": "code",
   "execution_count": null,
   "id": "1ac96b7e-74b1-4f5a-84a8-a44c8cb75080",
   "metadata": {},
   "outputs": [],
   "source": []
  }
 ],
 "metadata": {
  "kernelspec": {
   "display_name": "Python 3 (ipykernel)",
   "language": "python",
   "name": "python3"
  },
  "language_info": {
   "codemirror_mode": {
    "name": "ipython",
    "version": 3
   },
   "file_extension": ".py",
   "mimetype": "text/x-python",
   "name": "python",
   "nbconvert_exporter": "python",
   "pygments_lexer": "ipython3",
   "version": "3.10.11"
  }
 },
 "nbformat": 4,
 "nbformat_minor": 5
}
